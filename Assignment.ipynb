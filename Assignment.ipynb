{
 "cells": [
  {
   "cell_type": "code",
   "execution_count": 3,
   "id": "c4cd574d-722e-494c-a91b-02603f9777ad",
   "metadata": {},
   "outputs": [
    {
     "name": "stdout",
     "output_type": "stream",
     "text": [
      "Ayush kumar \n",
      " MCA B6 \n",
      " sap id:590017862\n"
     ]
    },
    {
     "name": "stdin",
     "output_type": "stream",
     "text": [
      "enter the first name  Ayush\n",
      "enter the second name  kumar\n"
     ]
    },
    {
     "name": "stdout",
     "output_type": "stream",
     "text": [
      "ramuk hsuyA\n"
     ]
    },
    {
     "name": "stdin",
     "output_type": "stream",
     "text": [
      "Enter a number:  6\n"
     ]
    },
    {
     "name": "stdout",
     "output_type": "stream",
     "text": [
      "Integer: 6\n",
      "Float: 6.0\n",
      "Complex: (6+0j)\n"
     ]
    },
    {
     "name": "stdin",
     "output_type": "stream",
     "text": [
      "Enter the lenght of rectangle :  8\n",
      "Enter the width of rectangle :  8\n"
     ]
    },
    {
     "name": "stdout",
     "output_type": "stream",
     "text": [
      "The area is 64.00\n"
     ]
    },
    {
     "name": "stdin",
     "output_type": "stream",
     "text": [
      "enter the first number : 9\n",
      "enter the second number : 9\n",
      "enter the third number : 0\n"
     ]
    },
    {
     "name": "stdout",
     "output_type": "stream",
     "text": [
      "The average of given number is 6.00\n"
     ]
    },
    {
     "name": "stdin",
     "output_type": "stream",
     "text": [
      "Enter a number (or type 'exit' to quit):  8\n"
     ]
    },
    {
     "name": "stdout",
     "output_type": "stream",
     "text": [
      "8.0 is a positive number.\n"
     ]
    },
    {
     "name": "stdin",
     "output_type": "stream",
     "text": [
      "Enter a number (or type 'exit' to quit):  8\n"
     ]
    },
    {
     "name": "stdout",
     "output_type": "stream",
     "text": [
      "8.0 is a positive number.\n"
     ]
    },
    {
     "name": "stdin",
     "output_type": "stream",
     "text": [
      "Enter a number (or type 'exit' to quit):  -9\n"
     ]
    },
    {
     "name": "stdout",
     "output_type": "stream",
     "text": [
      "-9.0 is a negative number.\n"
     ]
    },
    {
     "name": "stdin",
     "output_type": "stream",
     "text": [
      "Enter a number (or type 'exit' to quit):  8\n"
     ]
    },
    {
     "name": "stdout",
     "output_type": "stream",
     "text": [
      "8.0 is a positive number.\n"
     ]
    },
    {
     "name": "stdin",
     "output_type": "stream",
     "text": [
      "Enter a number (or type 'exit' to quit):  esit\n"
     ]
    },
    {
     "name": "stdout",
     "output_type": "stream",
     "text": [
      "Invalid input. Please enter a number or type 'exit' to quit.\n"
     ]
    },
    {
     "name": "stdin",
     "output_type": "stream",
     "text": [
      "Enter a number (or type 'exit' to quit):  quit\n"
     ]
    },
    {
     "name": "stdout",
     "output_type": "stream",
     "text": [
      "Invalid input. Please enter a number or type 'exit' to quit.\n"
     ]
    },
    {
     "name": "stdin",
     "output_type": "stream",
     "text": [
      "Enter a number (or type 'exit' to quit):  exit\n",
      "Enter the first value : 7\n",
      "Enter the  second value : 9\n"
     ]
    },
    {
     "name": "stdout",
     "output_type": "stream",
     "text": [
      "both are odd\n"
     ]
    },
    {
     "name": "stdin",
     "output_type": "stream",
     "text": [
      "Enter an integer:  7\n"
     ]
    },
    {
     "name": "stdout",
     "output_type": "stream",
     "text": [
      "Binary: 111\n",
      "Hexadecimal: 7\n",
      "Octal: 7\n"
     ]
    }
   ],
   "source": [
    "# Get the Python version\n",
    "import sys\n",
    "python_version = sys.version\n",
    "print(\"NAME:Ayush Kumar\\nBATCH:B6\\nSAP ID:590017862\")\n",
    "print(f\"I am using Python version {python_version}.\")\n",
    "\n",
    "print(\"Hello Python World!\")\n",
    "\n",
    "\n",
    "# Write a Python program that takes a user's first and last name as input and\n",
    "#  prints them in reverse order with a space between them.\n",
    "str1=input(\"enter the first name \")\n",
    "str2=input(\"enter the second name \")\n",
    "print((str2[::-1] + \" \"+ str1[::-1]))\n",
    "\n",
    "\n",
    "\n",
    "# Write a Python program that takes an input number from the user,\n",
    "#  converts it to different numeric data types (integer, float, and complex),\n",
    "#  and displays the converted values.\n",
    "\n",
    "\n",
    "user_input = input(\"Enter a number: \")\n",
    "\n",
    "print(\"Integer:\", int(user_input))\n",
    "print(\"Float:\", float(user_input))\n",
    "print(\"Complex:\", complex(user_input))\n",
    "\n",
    "\n",
    "\n",
    "\n",
    "# Create a Python script that calculates the area of a rectangle.\n",
    "length=float(input(\"Enter the lenght of rectangle : \"))\n",
    "width=float(input(\"Enter the width of rectangle : \"))\n",
    "area=length*width\n",
    "# Modify the rectangle area program to format the output so that it displays the area with two decimal places.\n",
    "print(f\"The area is {area:.2f}\")\n",
    "\n",
    "\n",
    "# Write a Python script that takes three numbers as input and\n",
    "#  prints their average using the % method for string formatting\n",
    "num1=float(input(\"enter the first number :\"))\n",
    "\n",
    "num2=float(input(\"enter the second number :\"))\n",
    "\n",
    "num3=float(input(\"enter the third number :\"))\n",
    "\n",
    "avg=(num1+num2+num3)/3\n",
    "print(\"The average of given number is %.2f\" %avg)\n",
    "\n",
    "#Write a Python program that asks the user for a number and determines whether it is positive, negative, or zero.\n",
    "\n",
    "#Implement a loop that continues to ask the user for a number until they enter 'exit'.\n",
    "\n",
    "#Use break to exit the loop and continue to prompt for a new number if the input is not 'exit'.\n",
    "while True:\n",
    "    user_input = input(\"Enter a number (or type 'exit' to quit): \")\n",
    "\n",
    "    if user_input.lower() == 'exit':\n",
    "        break\n",
    "\n",
    "    try:\n",
    "        num = float(user_input)\n",
    "        if num > 0:\n",
    "            print(f\"{num} is a positive number.\")\n",
    "        elif num < 0:\n",
    "            print(f\"{num} is a negative number.\")\n",
    "        else:\n",
    "            print(f\"{num} is zero.\")\n",
    "    except ValueError:\n",
    "        print(\"Invalid input. Please enter a number or type 'exit' to quit.\")\n",
    "        continue\n",
    "\n",
    "\n",
    "# Create a Python script that takes two numbers as input and \n",
    "# prints whether both numbers are even, odd, or one of each using relational and logical operators.\n",
    "\n",
    "val1 = int(input(\"Enter the first value :\"))\n",
    "                 \n",
    "val2 = int(input(\"Enter the  second value :\"))\n",
    "        \n",
    "if(val1%2==0 and val2%2==0):\n",
    "    print(\"both are even\")\n",
    "\n",
    "elif(val1%2!=0 and val2%2!=0):\n",
    "    print(\"both are odd\")\n",
    "elif(val1%2!=0 or val2%2!=0):\n",
    "    print(\"One number is even and the other is odd.\")\n",
    "\n",
    "#  Write a Python program that takes an integer input and\n",
    "#  prints its binary, octal, and hexadecimal equivalents using a for loop and bitwise operators.\n",
    "num = int(input(\"Enter an integer: \"))\n",
    "\n",
    "formats = [('Binary', bin), ('Hexadecimal', hex), ('Octal', oct)]\n",
    "\n",
    "# Loop through each format and print the result\n",
    "for name, func in formats:\n",
    "    print(f\"{name}: {func(num)[2:].upper()}\")"
   ]
  },
  {
   "cell_type": "code",
   "execution_count": null,
   "id": "abbae1b4-e169-4e4a-b0cd-e7701c0fe3e6",
   "metadata": {},
   "outputs": [],
   "source": []
  }
 ],
 "metadata": {
  "kernelspec": {
   "display_name": "Python 3 (ipykernel)",
   "language": "python",
   "name": "python3"
  },
  "language_info": {
   "codemirror_mode": {
    "name": "ipython",
    "version": 3
   },
   "file_extension": ".py",
   "mimetype": "text/x-python",
   "name": "python",
   "nbconvert_exporter": "python",
   "pygments_lexer": "ipython3",
   "version": "3.12.4"
  }
 },
 "nbformat": 4,
 "nbformat_minor": 5
}
